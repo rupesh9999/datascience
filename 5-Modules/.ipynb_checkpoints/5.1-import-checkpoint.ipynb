{
 "cells": [
  {
   "cell_type": "code",
   "execution_count": 1,
   "id": "16a94ab5",
   "metadata": {},
   "outputs": [
    {
     "data": {
      "text/plain": [
       "4.0"
      ]
     },
     "execution_count": 1,
     "metadata": {},
     "output_type": "execute_result"
    }
   ],
   "source": [
    "import math\n",
    "math.sqrt(16)"
   ]
  },
  {
   "cell_type": "code",
   "execution_count": 2,
   "id": "10d0638c",
   "metadata": {},
   "outputs": [
    {
     "name": "stdout",
     "output_type": "stream",
     "text": [
      "4.0\n",
      "5.0\n",
      "3.141592653589793\n"
     ]
    }
   ],
   "source": [
    "from math import sqrt,pi\n",
    "print(sqrt(16))\n",
    "print(sqrt(25))\n",
    "print(pi)"
   ]
  },
  {
   "cell_type": "code",
   "execution_count": 4,
   "id": "44258c62",
   "metadata": {},
   "outputs": [
    {
     "name": "stdout",
     "output_type": "stream",
     "text": [
      "Collecting numpy\n",
      "  Downloading numpy-2.3.2-cp312-cp312-win_amd64.whl.metadata (60 kB)\n",
      "Downloading numpy-2.3.2-cp312-cp312-win_amd64.whl (12.8 MB)\n",
      "   ---------------------------------------- 0.0/12.8 MB ? eta -:--:--\n",
      "   ---------------------------------------- 0.0/12.8 MB ? eta -:--:--\n",
      "   ------------ --------------------------- 3.9/12.8 MB 23.4 MB/s eta 0:00:01\n",
      "   --------------- ------------------------ 5.0/12.8 MB 12.1 MB/s eta 0:00:01\n",
      "   ------------------ --------------------- 5.8/12.8 MB 10.1 MB/s eta 0:00:01\n",
      "   ------------------- -------------------- 6.3/12.8 MB 7.3 MB/s eta 0:00:01\n",
      "   --------------------- ------------------ 6.8/12.8 MB 6.6 MB/s eta 0:00:01\n",
      "   ----------------------- ---------------- 7.6/12.8 MB 6.0 MB/s eta 0:00:01\n",
      "   -------------------------- ------------- 8.4/12.8 MB 5.8 MB/s eta 0:00:01\n",
      "   ----------------------------- ---------- 9.4/12.8 MB 5.6 MB/s eta 0:00:01\n",
      "   --------------------------------- ------ 10.7/12.8 MB 5.7 MB/s eta 0:00:01\n",
      "   ------------------------------------- -- 12.1/12.8 MB 5.7 MB/s eta 0:00:01\n",
      "   ---------------------------------------  12.6/12.8 MB 5.8 MB/s eta 0:00:01\n",
      "   ---------------------------------------- 12.8/12.8 MB 5.5 MB/s eta 0:00:00\n",
      "Installing collected packages: numpy\n",
      "Successfully installed numpy-2.3.2\n",
      "Note: you may need to restart the kernel to use updated packages.\n"
     ]
    }
   ],
   "source": [
    "%pip install numpy\n",
    "import numpy as np"
   ]
  },
  {
   "cell_type": "code",
   "execution_count": null,
   "id": "6f95f0d9",
   "metadata": {},
   "outputs": [],
   "source": []
  }
 ],
 "metadata": {
  "kernelspec": {
   "display_name": "Python 3",
   "language": "python",
   "name": "python3"
  },
  "language_info": {
   "codemirror_mode": {
    "name": "ipython",
    "version": 3
   },
   "file_extension": ".py",
   "mimetype": "text/x-python",
   "name": "python",
   "nbconvert_exporter": "python",
   "pygments_lexer": "ipython3",
   "version": "3.12.0"
  }
 },
 "nbformat": 4,
 "nbformat_minor": 5
}
