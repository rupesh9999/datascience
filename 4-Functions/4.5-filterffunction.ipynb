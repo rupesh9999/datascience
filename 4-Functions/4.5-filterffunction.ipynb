{
 "cells": [
  {
   "cell_type": "code",
   "execution_count": 1,
   "id": "e8215916",
   "metadata": {},
   "outputs": [],
   "source": [
    "def even(num):\n",
    "    if num % 2 == 0:\n",
    "        return True"
   ]
  },
  {
   "cell_type": "code",
   "execution_count": 3,
   "id": "299ffe3a",
   "metadata": {},
   "outputs": [
    {
     "data": {
      "text/plain": [
       "True"
      ]
     },
     "execution_count": 3,
     "metadata": {},
     "output_type": "execute_result"
    }
   ],
   "source": [
    "even(24)"
   ]
  },
  {
   "cell_type": "code",
   "execution_count": 4,
   "id": "b5ab595b",
   "metadata": {},
   "outputs": [
    {
     "data": {
      "text/plain": [
       "<filter at 0x2093428c940>"
      ]
     },
     "execution_count": 4,
     "metadata": {},
     "output_type": "execute_result"
    }
   ],
   "source": [
    "lst=[1,2,3,4,5,6,7,8,9,10]\n",
    "\n",
    "filter(even,lst)"
   ]
  },
  {
   "cell_type": "code",
   "execution_count": 6,
   "id": "cbbb67ce",
   "metadata": {},
   "outputs": [
    {
     "name": "stdout",
     "output_type": "stream",
     "text": [
      "[6, 7, 8, 9, 10]\n"
     ]
    }
   ],
   "source": [
    "## filter with lambda function\n",
    "numbers=[1,2,3,4,5,6,7,8,9,10]\n",
    "greater_than_5=list(filter(lambda x: x>5,numbers))\n",
    "print(greater_than_5)"
   ]
  },
  {
   "cell_type": "code",
   "execution_count": 7,
   "id": "fbfce1eb",
   "metadata": {},
   "outputs": [
    {
     "name": "stdout",
     "output_type": "stream",
     "text": [
      "['John', 'Jane', 'Jack']\n"
     ]
    }
   ],
   "source": [
    "## filter with a lambda function and multiple conditions\n",
    "names=[\"John\",\"Jane\",\"Jack\",\"Doe\",\"Dane\",\"Duke\"]\n",
    "names_starting_with_J=list(filter(lambda name: name.startswith(\"J\") and len(name)==4,names))\n",
    "print(names_starting_with_J)"
   ]
  },
  {
   "cell_type": "code",
   "execution_count": 8,
   "id": "3edb1b03",
   "metadata": {},
   "outputs": [
    {
     "name": "stdout",
     "output_type": "stream",
     "text": [
      "[{'name': 'John', 'age': 30}, {'name': 'Jack', 'age': 27}]\n"
     ]
    }
   ],
   "source": [
    "## filter function to check if the age is greater than 25 in dictionary\n",
    "people=[\n",
    "    {\"name\":\"John\",\"age\":30},\n",
    "    {\"name\":\"Jane\",\"age\":22},\n",
    "    {\"name\":\"Jack\",\"age\":27},\n",
    "    {\"name\":\"Doe\",\"age\":24}\n",
    "]\n",
    "\n",
    "def age_greater_than_25(person):\n",
    "    if person[\"age\"]>25:\n",
    "        return True\n",
    "\n",
    "filtered_people=list(filter(age_greater_than_25,people))\n",
    "print(filtered_people)"
   ]
  },
  {
   "cell_type": "code",
   "execution_count": null,
   "id": "cc3f61cf",
   "metadata": {},
   "outputs": [],
   "source": []
  }
 ],
 "metadata": {
  "kernelspec": {
   "display_name": "Python 3",
   "language": "python",
   "name": "python3"
  },
  "language_info": {
   "codemirror_mode": {
    "name": "ipython",
    "version": 3
   },
   "file_extension": ".py",
   "mimetype": "text/x-python",
   "name": "python",
   "nbconvert_exporter": "python",
   "pygments_lexer": "ipython3",
   "version": "3.12.0"
  }
 },
 "nbformat": 4,
 "nbformat_minor": 5
}
