{
 "cells": [
  {
   "cell_type": "code",
   "execution_count": 1,
   "id": "fc4126fc",
   "metadata": {},
   "outputs": [],
   "source": [
    "def conver_temperature(temp,unit):\n",
    "    \"\"\"This function converts temperature between celsius and Fahrenheit\"\"\"\n",
    "    if unit==\"c\":\n",
    "        return (temp-32)*5/9\n",
    "    elif unit==\"f\":\n",
    "        return (temp*9/5)+32\n",
    "    else:\n",
    "        return \"Invalid unit\""
   ]
  },
  {
   "cell_type": "code",
   "execution_count": 2,
   "id": "8a2e0776",
   "metadata": {},
   "outputs": [
    {
     "name": "stdout",
     "output_type": "stream",
     "text": [
      "False\n",
      "True\n"
     ]
    }
   ],
   "source": [
    "## example 2: password strength checker\n",
    "\n",
    "def is_strong_password(password):\n",
    "    \"\"\"This function checks if a password is strong or not\"\"\"\n",
    "    if len(password)<8:\n",
    "        return False\n",
    "    if not any(char.isdigit() for char in password):\n",
    "        return False\n",
    "    if not any(char.islower() for char in password): \n",
    "        return False\n",
    "    if not any(char.isupper() for char in password):\n",
    "        return False\n",
    "    if not any(char in \"!@#$%^&*()-+\" for char in password):\n",
    "        return False\n",
    "    return True\n",
    "\n",
    "## calling the function\n",
    "print(is_strong_password(\"WeakPwd\"))  # True\n",
    "print(is_strong_password(\"StrongPwd1!\"))  # False"
   ]
  },
  {
   "cell_type": "code",
   "execution_count": 5,
   "id": "94b4b654",
   "metadata": {},
   "outputs": [
    {
     "ename": "IndentationError",
     "evalue": "expected an indented block after 'for' statement on line 5 (1636800383.py, line 9)",
     "output_type": "error",
     "traceback": [
      "  \u001b[36mCell\u001b[39m\u001b[36m \u001b[39m\u001b[32mIn[5]\u001b[39m\u001b[32m, line 9\u001b[39m\n\u001b[31m    \u001b[39m\u001b[31mcart=[\u001b[39m\n          ^\n\u001b[31mIndentationError\u001b[39m\u001b[31m:\u001b[39m expected an indented block after 'for' statement on line 5\n"
     ]
    }
   ],
   "source": [
    "##example3: calculate the total cost of items in a shopping cart\n",
    "\n",
    "def calculate_total_cost(cart):\n",
    "    total_cost=0\n",
    "    for item in cart:\n",
    "\n",
    "## Example cart data\n",
    "\n",
    "cart=[\n",
    "      {\"item\": \"apple\", \"price\": 0.5, \"quantity\": 4},\n",
    "      {\"item\": \"banana\", \"price\": 0.3, \"quantity\": 6},\n",
    "      {\"item\": \"orange\", \"price\": 0.8, \"quantity\": 3}\n",
    "    ]\n",
    "\n",
    "## calling the function\n",
    "total_cost = calculate_total_cost(cart)\n",
    "print(total_cost)  # 6.9\n",
    "\n"
   ]
  },
  {
   "cell_type": "code",
   "execution_count": 7,
   "id": "ffe4ec03",
   "metadata": {},
   "outputs": [
    {
     "name": "stdout",
     "output_type": "stream",
     "text": [
      "True\n",
      "False\n"
     ]
    }
   ],
   "source": [
    "##example4: check if a string is a palindrome\n",
    "def is_palindrome(s):\n",
    "    s = s.lower().replace(\" \", \"\")\n",
    "    return s == s[::-1]\n",
    "\n",
    "print(is_palindrome(\"A man a plan a canal Panama\"))  # True\n",
    "print(is_palindrome(\"Hello\"))  # False"
   ]
  },
  {
   "cell_type": "code",
   "execution_count": 9,
   "id": "71b85aba",
   "metadata": {},
   "outputs": [
    {
     "name": "stdout",
     "output_type": "stream",
     "text": [
      "{}\n"
     ]
    }
   ],
   "source": [
    "##example6: A function to read a file and count the frequency of each word in the file\n",
    "\n",
    "def count_word_frequency(file_path):\n",
    "    word_freq = {}\n",
    "    with open(file_path, 'r') as file:\n",
    "        text = file.read().lower()\n",
    "        words = text.split()\n",
    "        for word in words:\n",
    "            word = word.strip('.,!?;\"()[]{}')  # Remove punctuation\n",
    "            if word in word_freq:\n",
    "                word_freq[word] += 1\n",
    "            else:\n",
    "                word_freq[word] = 1\n",
    "    return word_freq\n",
    "\n",
    "file_path = 'sample.txt'  # Replace with your file path\n",
    "word_frequency = count_word_frequency(file_path)\n",
    "print(word_frequency)"
   ]
  },
  {
   "cell_type": "code",
   "execution_count": null,
   "id": "888b6e92",
   "metadata": {},
   "outputs": [],
   "source": []
  }
 ],
 "metadata": {
  "kernelspec": {
   "display_name": "Python 3",
   "language": "python",
   "name": "python3"
  },
  "language_info": {
   "codemirror_mode": {
    "name": "ipython",
    "version": 3
   },
   "file_extension": ".py",
   "mimetype": "text/x-python",
   "name": "python",
   "nbconvert_exporter": "python",
   "pygments_lexer": "ipython3",
   "version": "3.12.0"
  }
 },
 "nbformat": 4,
 "nbformat_minor": 5
}
