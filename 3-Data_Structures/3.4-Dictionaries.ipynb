{
 "cells": [
  {
   "cell_type": "code",
   "execution_count": 1,
   "id": "547d7be0",
   "metadata": {},
   "outputs": [
    {
     "name": "stdout",
     "output_type": "stream",
     "text": [
      "<class 'dict'>\n"
     ]
    }
   ],
   "source": [
    "## creating Dictionaries\n",
    "empty_dictionaries= {}\n",
    "print(type(empty_dictionaries))"
   ]
  },
  {
   "cell_type": "code",
   "execution_count": 2,
   "id": "4434c377",
   "metadata": {},
   "outputs": [
    {
     "data": {
      "text/plain": [
       "{}"
      ]
     },
     "execution_count": 2,
     "metadata": {},
     "output_type": "execute_result"
    }
   ],
   "source": [
    "empty_dict=dict()\n",
    "empty_dict"
   ]
  },
  {
   "cell_type": "code",
   "execution_count": 4,
   "id": "70212bc0",
   "metadata": {},
   "outputs": [
    {
     "name": "stdout",
     "output_type": "stream",
     "text": [
      "{'name': 'John', 'age': 25, 'courses': ['Math', 'CompSci']}\n",
      "<class 'dict'>\n"
     ]
    }
   ],
   "source": [
    "student={'name':'John', 'age':25, 'courses':['Math','CompSci']}\n",
    "print(student)\n",
    "print(type(student))"
   ]
  },
  {
   "cell_type": "code",
   "execution_count": 5,
   "id": "e6f7c6cc",
   "metadata": {},
   "outputs": [
    {
     "name": "stdout",
     "output_type": "stream",
     "text": [
      "{'name': 'John', 'age': 25, 'courses': ['Math', 'CompSci']}\n"
     ]
    }
   ],
   "source": [
    "## Error\n",
    "student={'name':'John', 'age':25, 'courses':['Math','CompSci']}\n",
    "print(student)"
   ]
  },
  {
   "cell_type": "code",
   "execution_count": 6,
   "id": "414fe997",
   "metadata": {},
   "outputs": [
    {
     "name": "stdout",
     "output_type": "stream",
     "text": [
      "{'name': 'John', 'age': 25, 'courses': ['Math', 'CompSci'], 'grade': 'A'}\n"
     ]
    }
   ],
   "source": [
    "## accessing Dictionary Elements\n",
    "student={'name':'John', 'age':25, 'courses':['Math','CompSci'], 'grade': 'A'}\n",
    "print(student)"
   ]
  },
  {
   "cell_type": "code",
   "execution_count": 10,
   "id": "07e06308",
   "metadata": {},
   "outputs": [
    {
     "name": "stdout",
     "output_type": "stream",
     "text": [
      "['Math', 'CompSci']\n",
      "John\n",
      "25\n",
      "Not Found\n"
     ]
    }
   ],
   "source": [
    "print(student['courses'])\n",
    "print(student['name'])\n",
    "print(student.get('age'))\n",
    "print(student.get('phone','Not Found'))  # if key not found, return Not Found\n",
    "\n"
   ]
  },
  {
   "cell_type": "code",
   "execution_count": 11,
   "id": "0747cc98",
   "metadata": {},
   "outputs": [
    {
     "name": "stdout",
     "output_type": "stream",
     "text": [
      "{'name': 'John', 'age': 25, 'courses': ['Math', 'CompSci'], 'grade': 'A'}\n"
     ]
    }
   ],
   "source": [
    "##modifying Dictionary elements\n",
    "##Dictionaries are mutable, so you can add, remove, or change elements after the dictionary has been created.\n",
    "\n",
    "\n",
    "print(student)"
   ]
  },
  {
   "cell_type": "code",
   "execution_count": 12,
   "id": "1a6713cd",
   "metadata": {},
   "outputs": [
    {
     "name": "stdout",
     "output_type": "stream",
     "text": [
      "{'name': 'John', 'age': 26, 'courses': ['Math', 'CompSci'], 'grade': 'A'}\n",
      "{'name': 'John', 'age': 26, 'courses': ['Math', 'CompSci'], 'grade': 'A', 'phone': '555-5555'}\n"
     ]
    }
   ],
   "source": [
    "student[\"age\"]=26\n",
    "print(student)\n",
    "student['phone']='555-5555'\n",
    "print(student)"
   ]
  },
  {
   "cell_type": "code",
   "execution_count": 17,
   "id": "bc945206",
   "metadata": {},
   "outputs": [
    {
     "name": "stdout",
     "output_type": "stream",
     "text": [
      "dict_keys(['name', 'age', 'courses', 'phone'])\n",
      "dict_values(['John', 26, ['Math', 'CompSci'], '555-5555'])\n",
      "dict_items([('name', 'John'), ('age', 26), ('courses', ['Math', 'CompSci']), ('phone', '555-5555')])\n"
     ]
    }
   ],
   "source": [
    "##dictionary methods\n",
    "\n",
    "keys=student.keys()\n",
    "print(keys)\n",
    "values=student.values()\n",
    "print(values)\n",
    "\n",
    "items=student.items()\n",
    "print(items)"
   ]
  },
  {
   "cell_type": "code",
   "execution_count": 18,
   "id": "a8fda2e7",
   "metadata": {},
   "outputs": [
    {
     "name": "stdout",
     "output_type": "stream",
     "text": [
      "{'name': 'John', 'age': 26, 'courses': ['Math', 'CompSci'], 'phone': '555-5555'}\n",
      "{'name': 'John', 'age': 26, 'courses': ['Math', 'CompSci'], 'phone': '555-5555'}\n"
     ]
    }
   ],
   "source": [
    "## shallow copy\n",
    "\n",
    "student_copy=student\n",
    "print(student)\n",
    "print(student_copy)"
   ]
  },
  {
   "cell_type": "code",
   "execution_count": 19,
   "id": "ae8b80ae",
   "metadata": {},
   "outputs": [
    {
     "name": "stdout",
     "output_type": "stream",
     "text": [
      "{'name': 'Rupesh', 'age': 26, 'courses': ['Math', 'CompSci'], 'phone': '555-5555'}\n",
      "{'name': 'Rupesh', 'age': 26, 'courses': ['Math', 'CompSci'], 'phone': '555-5555'}\n"
     ]
    }
   ],
   "source": [
    "student[\"name\"]=\"Rupesh\"\n",
    "print(student)\n",
    "print(student_copy)"
   ]
  },
  {
   "cell_type": "code",
   "execution_count": 21,
   "id": "84a5f0f0",
   "metadata": {},
   "outputs": [
    {
     "name": "stdout",
     "output_type": "stream",
     "text": [
      "{'name': 'Rupesh', 'age': 26, 'courses': ['Math', 'CompSci'], 'phone': '555-5555'}\n",
      "{'name': 'Rupesh', 'age': 26, 'courses': ['Math', 'CompSci'], 'phone': '555-5555'}\n"
     ]
    }
   ],
   "source": [
    "student_copy1=student.copy()\n",
    "print(student_copy1)\n",
    "print(student)"
   ]
  },
  {
   "cell_type": "code",
   "execution_count": 22,
   "id": "b9b3b686",
   "metadata": {},
   "outputs": [
    {
     "name": "stdout",
     "output_type": "stream",
     "text": [
      "{'name': 'Rupesh', 'age': 26, 'courses': ['Math', 'CompSci'], 'phone': '555-5555'}\n",
      "{'name': 'Jane', 'age': 26, 'courses': ['Math', 'CompSci'], 'phone': '555-5555'}\n"
     ]
    }
   ],
   "source": [
    "student[\"name\"]=\"Jane\"\n",
    "print(student_copy1)\n",
    "print(student)"
   ]
  },
  {
   "cell_type": "code",
   "execution_count": 23,
   "id": "d1a15887",
   "metadata": {},
   "outputs": [
    {
     "name": "stdout",
     "output_type": "stream",
     "text": [
      "name\n",
      "age\n",
      "courses\n",
      "phone\n"
     ]
    }
   ],
   "source": [
    "## Iterating Over Dictionaries\n",
    "## you can use to a for loop to iterate over the keys, values, or key-value pairs in a dictionary.\n",
    "\n",
    "## Iterating over keys\n",
    "\n",
    "for keys in student.keys():\n",
    "    print(keys)"
   ]
  },
  {
   "cell_type": "code",
   "execution_count": 24,
   "id": "4b75a69c",
   "metadata": {},
   "outputs": [
    {
     "name": "stdout",
     "output_type": "stream",
     "text": [
      "Jane\n",
      "26\n",
      "['Math', 'CompSci']\n",
      "555-5555\n"
     ]
    }
   ],
   "source": [
    "## Iterate over Dictionaries\n",
    "for values in student.values():\n",
    "    print(values)"
   ]
  },
  {
   "cell_type": "code",
   "execution_count": 25,
   "id": "ffb905b0",
   "metadata": {},
   "outputs": [
    {
     "name": "stdout",
     "output_type": "stream",
     "text": [
      "name:Jane\n",
      "age:26\n",
      "courses:['Math', 'CompSci']\n",
      "phone:555-5555\n"
     ]
    }
   ],
   "source": [
    "## Iterate over key values pairs\n",
    "for key, value in student.items():\n",
    "    print(f\"{key}:{value}\")"
   ]
  },
  {
   "cell_type": "code",
   "execution_count": 26,
   "id": "7458df9f",
   "metadata": {},
   "outputs": [
    {
     "name": "stdout",
     "output_type": "stream",
     "text": [
      "{'student1': {'name': 'John', 'age': 25}, 'student2': {'name': 'Jane', 'age': 22}}\n",
      "{'name': 'John', 'age': 25}\n",
      "John\n"
     ]
    }
   ],
   "source": [
    "## nested dictionaries\n",
    "students={\n",
    "    'student1':{'name':'John', 'age':25},\n",
    "    'student2':{'name':'Jane', 'age':22}\n",
    "}\n",
    "print(students)\n",
    "print(students['student1'])\n",
    "print(students['student1']['name'])\n",
    "    "
   ]
  },
  {
   "cell_type": "code",
   "execution_count": 29,
   "id": "7a9a520e",
   "metadata": {},
   "outputs": [
    {
     "name": "stdout",
     "output_type": "stream",
     "text": [
      "John\n"
     ]
    }
   ],
   "source": [
    "## Access nested Dictionaries\n",
    "print(students[\"student1\"][\"name\"])"
   ]
  },
  {
   "cell_type": "code",
   "execution_count": 30,
   "id": "70428353",
   "metadata": {},
   "outputs": [
    {
     "name": "stdout",
     "output_type": "stream",
     "text": [
      "Student ID: student1\n",
      "  name: John\n",
      "  age: 25\n",
      "Student ID: student2\n",
      "  name: Jane\n",
      "  age: 22\n"
     ]
    }
   ],
   "source": [
    "## Iteraitng over nested Dictionaries\n",
    "\n",
    "for student_id, student_info in students.items():\n",
    "    print(f\"Student ID: {student_id}\")\n",
    "    for key, value in student_info.items():\n",
    "        print(f\"  {key}: {value}\")"
   ]
  },
  {
   "cell_type": "code",
   "execution_count": 31,
   "id": "cd531b3b",
   "metadata": {},
   "outputs": [
    {
     "name": "stdout",
     "output_type": "stream",
     "text": [
      "{0: 0, 1: 1, 2: 4, 3: 9, 4: 16, 5: 25}\n"
     ]
    }
   ],
   "source": [
    "## Dictionary Comprehensions\n",
    "\n",
    "squares={x:x**2 for x in range(6)}  # squres of 0-5\n",
    "print(squares)"
   ]
  },
  {
   "cell_type": "code",
   "execution_count": 32,
   "id": "4961b6af",
   "metadata": {},
   "outputs": [
    {
     "name": "stdout",
     "output_type": "stream",
     "text": [
      "{0: 0, 2: 4, 4: 16, 6: 36, 8: 64}\n"
     ]
    }
   ],
   "source": [
    "## Conditional Dictionary Comprehensions\n",
    "\n",
    "evens={x:x**2 for x in range(10) if x%2==0}\n",
    "print(evens)"
   ]
  },
  {
   "cell_type": "code",
   "execution_count": 34,
   "id": "e882f16a",
   "metadata": {},
   "outputs": [
    {
     "name": "stdout",
     "output_type": "stream",
     "text": [
      "{'1': 4, '2': 3, '3': 2, '4': 1, '5': 1}\n"
     ]
    }
   ],
   "source": [
    "## practical example\n",
    "\n",
    "## use a dictionary to count the frequency of each character in a list\n",
    "\n",
    "numbers=['1','2','3','4','5','1','2','3','1','2','1']\n",
    "frequecny={}\n",
    "for number in numbers:\n",
    "    if number in frequecny:\n",
    "        frequecny[number]+=1\n",
    "    else:\n",
    "        frequecny[number]=1\n",
    "print(frequecny)"
   ]
  },
  {
   "cell_type": "code",
   "execution_count": 35,
   "id": "8d94def1",
   "metadata": {},
   "outputs": [
    {
     "name": "stdout",
     "output_type": "stream",
     "text": [
      "{'a': 1, 'b': 2, 'c': 3, 'd': 4}\n"
     ]
    }
   ],
   "source": [
    "## merge 2 dictionaries into one\n",
    "\n",
    "dict1={'a':1, 'b':2}\n",
    "dict2={'c':3, 'd':4}\n",
    "merged_dict={**dict1, **dict2}\n",
    "print(merged_dict)"
   ]
  },
  {
   "cell_type": "code",
   "execution_count": null,
   "id": "f67fb2dc",
   "metadata": {},
   "outputs": [],
   "source": []
  }
 ],
 "metadata": {
  "kernelspec": {
   "display_name": "Python 3",
   "language": "python",
   "name": "python3"
  },
  "language_info": {
   "codemirror_mode": {
    "name": "ipython",
    "version": 3
   },
   "file_extension": ".py",
   "mimetype": "text/x-python",
   "name": "python",
   "nbconvert_exporter": "python",
   "pygments_lexer": "ipython3",
   "version": "3.12.0"
  }
 },
 "nbformat": 4,
 "nbformat_minor": 5
}
