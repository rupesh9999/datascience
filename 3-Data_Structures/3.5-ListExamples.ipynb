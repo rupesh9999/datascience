{
 "cells": [
  {
   "cell_type": "code",
   "execution_count": 1,
   "id": "de03ae31",
   "metadata": {},
   "outputs": [
    {
     "name": "stdout",
     "output_type": "stream",
     "text": [
      "You still need to pay your bills.\n",
      "Current To-Do List:\n",
      "-Buy groceries\n",
      "-Pay bills\n",
      "-Schedule meeting\n",
      "-Go for a run\n"
     ]
    }
   ],
   "source": [
    "to_do_list=[\"Buy groceries\", \"Clean the house\", \"Pay bills\"]\n",
    "\n",
    "## Adding to task\n",
    "to_do_list.append(\"Schedule meeting\")\n",
    "to_do_list.append(\"Go for a run\")\n",
    "\n",
    "## removing a completed task\n",
    "to_do_list.remove(\"Clean the house\")\n",
    "\n",
    "## checking if a task is in the list\n",
    "if \"Pay bills\" in to_do_list:\n",
    "    print(\"You still need to pay your bills.\")\n",
    "\n",
    "print(\"Current To-Do List:\")\n",
    "for task in to_do_list:\n",
    "    print(f\"-{task}\")"
   ]
  },
  {
   "cell_type": "code",
   "execution_count": 2,
   "id": "0ec4549b",
   "metadata": {},
   "outputs": [
    {
     "name": "stdout",
     "output_type": "stream",
     "text": [
      "Average Grade: 88.00\n",
      "Highest Grade: 95\n",
      "Lowest Grade: 79\n"
     ]
    }
   ],
   "source": [
    "## organizing the student grades\n",
    "\n",
    "grades = [88, 92, 79, 85, 95, 90]\n",
    "\n",
    "# adding a new grade\n",
    "grades.append(87)\n",
    "\n",
    "# calculating the average grade\n",
    "average_grade = sum(grades) / len(grades)\n",
    "print(f\"Average Grade: {average_grade:.2f}\")\n",
    "\n",
    "# finding the highest and lowest grades\n",
    "highest_grade = max(grades)\n",
    "lowest_grade = min(grades)\n",
    "print(f\"Highest Grade: {highest_grade}\")\n",
    "print(f\"Lowest Grade: {lowest_grade}\")"
   ]
  },
  {
   "cell_type": "code",
   "execution_count": 3,
   "id": "e7295eb8",
   "metadata": {},
   "outputs": [
    {
     "name": "stdout",
     "output_type": "stream",
     "text": [
      "You have a sword in your inventory.\n",
      "Current Inventory:\n",
      "-sword\n",
      "-shield\n",
      "-helmet\n"
     ]
    }
   ],
   "source": [
    "## managing an inventory\n",
    "inventory = [\"sword\", \"shield\", \"potion\"]\n",
    "\n",
    "# adding new items\n",
    "inventory.append(\"helmet\")\n",
    "\n",
    "# removing used items\n",
    "\n",
    "inventory.remove(\"potion\")\n",
    "\n",
    "# checking if an item is in the inventory\n",
    "if \"sword\" in inventory:\n",
    "    print(\"You have a sword in your inventory.\")\n",
    "print(\"Current Inventory:\")\n",
    "for item in inventory:\n",
    "    print(f\"-{item}\")   \n",
    "    "
   ]
  },
  {
   "cell_type": "code",
   "execution_count": null,
   "id": "4ba1c0c9",
   "metadata": {},
   "outputs": [],
   "source": []
  }
 ],
 "metadata": {
  "kernelspec": {
   "display_name": "Python 3",
   "language": "python",
   "name": "python3"
  },
  "language_info": {
   "codemirror_mode": {
    "name": "ipython",
    "version": 3
   },
   "file_extension": ".py",
   "mimetype": "text/x-python",
   "name": "python",
   "nbconvert_exporter": "python",
   "pygments_lexer": "ipython3",
   "version": "3.12.0"
  }
 },
 "nbformat": 4,
 "nbformat_minor": 5
}
