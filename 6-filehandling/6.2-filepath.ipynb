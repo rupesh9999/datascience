{
 "cells": [
  {
   "cell_type": "code",
   "execution_count": 1,
   "id": "c6b72a19",
   "metadata": {},
   "outputs": [
    {
     "name": "stdout",
     "output_type": "stream",
     "text": [
      "Directory 'package' create\n"
     ]
    }
   ],
   "source": [
    "## create a new directory\n",
    "\n",
    "import os\n",
    "\n",
    "new_directory=\"package\"\n",
    "os.mkdir(new_directory)\n",
    "print(f\"Directory '{new_directory}' create\")"
   ]
  },
  {
   "cell_type": "code",
   "execution_count": 2,
   "id": "5a6598fb",
   "metadata": {},
   "outputs": [
    {
     "name": "stdout",
     "output_type": "stream",
     "text": [
      "['6.2-filepath.ipynb', 'destination.txt', 'example.bin', 'example.txt', 'fileoperation.ipynb', 'package']\n"
     ]
    }
   ],
   "source": [
    "## listing files and directories\n",
    "\n",
    "items=os.listdir('.')\n",
    "print(items)"
   ]
  },
  {
   "cell_type": "code",
   "execution_count": 3,
   "id": "a6ae0c34",
   "metadata": {},
   "outputs": [
    {
     "name": "stdout",
     "output_type": "stream",
     "text": [
      "folder\\file.txt\n"
     ]
    }
   ],
   "source": [
    "### Joining paths\n",
    "\n",
    "dir_name=\"folder\"\n",
    "file_name=\"file.txt\"\n",
    "full_path=os.path.join(dir_name, file_name)\n",
    "print(full_path)\n"
   ]
  },
  {
   "cell_type": "code",
   "execution_count": 4,
   "id": "f0b3febc",
   "metadata": {},
   "outputs": [
    {
     "name": "stdout",
     "output_type": "stream",
     "text": [
      "c:\\Users\\ASUS\\Downloads\\python\\6-filehandling\\folder\\file.txt\n"
     ]
    }
   ],
   "source": [
    "dir_name=\"folder\"\n",
    "file_name=\"file.txt\"\n",
    "full_path=os.path.join(os.getcwd(),dir_name, file_name)\n",
    "print(full_path)\n"
   ]
  },
  {
   "cell_type": "code",
   "execution_count": 8,
   "id": "933e0d6e",
   "metadata": {},
   "outputs": [
    {
     "name": "stdout",
     "output_type": "stream",
     "text": [
      "The path 'example1.txt' does not exist\n"
     ]
    }
   ],
   "source": [
    "import os\n",
    "\n",
    "path = 'example1.txt'\n",
    "if os.path.exists(path):\n",
    "    print(f\"The path '{path}' exists\")\n",
    "else:\n",
    "    print(f\"The path '{path}' does not exist\")\n"
   ]
  },
  {
   "cell_type": "code",
   "execution_count": null,
   "id": "687cde4a",
   "metadata": {},
   "outputs": [],
   "source": []
  }
 ],
 "metadata": {
  "kernelspec": {
   "display_name": "Python 3",
   "language": "python",
   "name": "python3"
  },
  "language_info": {
   "codemirror_mode": {
    "name": "ipython",
    "version": 3
   },
   "file_extension": ".py",
   "mimetype": "text/x-python",
   "name": "python",
   "nbconvert_exporter": "python",
   "pygments_lexer": "ipython3",
   "version": "3.12.0"
  }
 },
 "nbformat": 4,
 "nbformat_minor": 5
}
