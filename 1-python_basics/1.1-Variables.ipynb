{
 "cells": [
  {
   "cell_type": "code",
   "execution_count": 1,
   "id": "80fd73f4",
   "metadata": {},
   "outputs": [],
   "source": [
    "a=100"
   ]
  },
  {
   "cell_type": "code",
   "execution_count": 2,
   "id": "5b456cb5",
   "metadata": {},
   "outputs": [
    {
     "name": "stdout",
     "output_type": "stream",
     "text": [
      "Age: 32\n",
      "Height: 6.2\n",
      "Name: Rupesh\n"
     ]
    }
   ],
   "source": [
    "## Declaring and Assigning variables in Python\n",
    "\n",
    "age = 32\n",
    "height = 6.2\n",
    "name = \"Rupesh\"\n",
    "is_student = True\n",
    "\n",
    "## printing the variables\n",
    "print(\"Age:\", age)\n",
    "print(\"Height:\", height)\n",
    "print(\"Name:\", name)"
   ]
  },
  {
   "cell_type": "code",
   "execution_count": null,
   "id": "be88c248",
   "metadata": {},
   "outputs": [],
   "source": [
    "## Naming Conventions\n",
    "## variables names can contain letters, digits and underscores\n",
    "## variables names must start with a letter or an underscore\n",
    "## variables names are case sensitive\n",
    "\n"
   ]
  },
  {
   "cell_type": "code",
   "execution_count": 4,
   "id": "ee8534e2",
   "metadata": {},
   "outputs": [
    {
     "name": "stdout",
     "output_type": "stream",
     "text": [
      "<class 'int'>\n"
     ]
    }
   ],
   "source": [
    "age=25\n",
    "print(type(int(age  )))"
   ]
  },
  {
   "cell_type": "code",
   "execution_count": 5,
   "id": "ad7d2d7b",
   "metadata": {},
   "outputs": [
    {
     "ename": "ValueError",
     "evalue": "invalid literal for int() with base 10: 'Rupesh'",
     "output_type": "error",
     "traceback": [
      "\u001b[31m---------------------------------------------------------------------------\u001b[39m",
      "\u001b[31mValueError\u001b[39m                                Traceback (most recent call last)",
      "\u001b[36mCell\u001b[39m\u001b[36m \u001b[39m\u001b[32mIn[5]\u001b[39m\u001b[32m, line 2\u001b[39m\n\u001b[32m      1\u001b[39m name = \u001b[33m\"\u001b[39m\u001b[33mRupesh\u001b[39m\u001b[33m\"\u001b[39m\n\u001b[32m----> \u001b[39m\u001b[32m2\u001b[39m \u001b[38;5;28;43mint\u001b[39;49m\u001b[43m(\u001b[49m\u001b[43mname\u001b[49m\u001b[43m)\u001b[49m\n",
      "\u001b[31mValueError\u001b[39m: invalid literal for int() with base 10: 'Rupesh'"
     ]
    }
   ],
   "source": [
    "name = \"Rupesh\"\n",
    "int(name)"
   ]
  },
  {
   "cell_type": "code",
   "execution_count": 6,
   "id": "ad1b4d1f",
   "metadata": {},
   "outputs": [
    {
     "data": {
      "text/plain": [
       "float"
      ]
     },
     "execution_count": 6,
     "metadata": {},
     "output_type": "execute_result"
    }
   ],
   "source": [
    "height = 5.9\n",
    "type(height)"
   ]
  },
  {
   "cell_type": "code",
   "execution_count": 7,
   "id": "b3f07a6a",
   "metadata": {},
   "outputs": [
    {
     "data": {
      "text/plain": [
       "5"
      ]
     },
     "execution_count": 7,
     "metadata": {},
     "output_type": "execute_result"
    }
   ],
   "source": [
    "int(height)"
   ]
  },
  {
   "cell_type": "code",
   "execution_count": 8,
   "id": "c8d77f1d",
   "metadata": {},
   "outputs": [
    {
     "data": {
      "text/plain": [
       "5.0"
      ]
     },
     "execution_count": 8,
     "metadata": {},
     "output_type": "execute_result"
    }
   ],
   "source": [
    "float(int(height))"
   ]
  },
  {
   "cell_type": "code",
   "execution_count": 9,
   "id": "608d055b",
   "metadata": {},
   "outputs": [
    {
     "name": "stdout",
     "output_type": "stream",
     "text": [
      "10 is of type <class 'int'>\n",
      "Hello <class 'str'>\n",
      "3.14 <class 'float'>\n"
     ]
    }
   ],
   "source": [
    "## Dynamic Typing in Python\n",
    "\n",
    "var = 10\n",
    "print(var, \"is of type\", type(var))\n",
    "\n",
    "var=\"Hello\"\n",
    "print(var, type(var))\n",
    "\n",
    "var=3.14\n",
    "print(var, type(var))\n"
   ]
  },
  {
   "cell_type": "code",
   "execution_count": null,
   "id": "448e95c5",
   "metadata": {},
   "outputs": [],
   "source": []
  }
 ],
 "metadata": {
  "kernelspec": {
   "display_name": "Python 3",
   "language": "python",
   "name": "python3"
  },
  "language_info": {
   "codemirror_mode": {
    "name": "ipython",
    "version": 3
   },
   "file_extension": ".py",
   "mimetype": "text/x-python",
   "name": "python",
   "nbconvert_exporter": "python",
   "pygments_lexer": "ipython3",
   "version": "3.12.0"
  }
 },
 "nbformat": 4,
 "nbformat_minor": 5
}
