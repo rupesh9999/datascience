{
 "cells": [
  {
   "cell_type": "markdown",
   "id": "a6424ee0",
   "metadata": {},
   "source": [
    "Datatypes\n",
    "\n",
    "1. Definition:\n",
    "\n",
    "Data types are a classification of data which wtell the compiler or interpreter how the programmer intends to use the data.\n",
    "They determine the type of operations that can be performed on the data, the values that the data can take, and the amount of memory needed to store the data.\n",
    "\n",
    "2. Importance of Data Types in Programming\n",
    "\n",
    "Explaination:\n",
    "Data types ensure that data is stored in an efficient way.\n",
    "They help in performing correct operatins on data.\n",
    "Proper use of data types can prevent errors and bugs in the program\n",
    "\n",
    "3. Basic Data Types\n",
    "\n",
    "Integers\n",
    "Floating-point numbers\n",
    "Strings\n",
    "Booleans\n",
    "\n",
    "4. Advanced Data Types\n",
    "Lists\n",
    "Tuples\n",
    "Sets \n",
    "Dictionaries"
   ]
  },
  {
   "cell_type": "code",
   "execution_count": 1,
   "id": "1e18bca0",
   "metadata": {},
   "outputs": [
    {
     "data": {
      "text/plain": [
       "int"
      ]
     },
     "execution_count": 1,
     "metadata": {},
     "output_type": "execute_result"
    }
   ],
   "source": [
    "## Integer example\n",
    "age = 35\n",
    "type(age)"
   ]
  },
  {
   "cell_type": "code",
   "execution_count": 2,
   "id": "8488f742",
   "metadata": {},
   "outputs": [
    {
     "name": "stdout",
     "output_type": "stream",
     "text": [
      "<class 'float'>\n"
     ]
    }
   ],
   "source": [
    "## Floating point example\n",
    "height = 5.9\n",
    "type(height)\n",
    "print(type(float(height)))"
   ]
  },
  {
   "cell_type": "code",
   "execution_count": 3,
   "id": "7e24db4a",
   "metadata": {},
   "outputs": [
    {
     "name": "stdout",
     "output_type": "stream",
     "text": [
      "Rupesh\n",
      "<class 'str'>\n"
     ]
    }
   ],
   "source": [
    "## string datatype example\n",
    "name = \"Rupesh\"\n",
    "print(name)\n",
    "print(type(str(name)))"
   ]
  },
  {
   "cell_type": "code",
   "execution_count": 4,
   "id": "977c4adf",
   "metadata": {},
   "outputs": [
    {
     "name": "stdout",
     "output_type": "stream",
     "text": [
      "True\n"
     ]
    }
   ],
   "source": [
    "## boolean datatype example\n",
    "is_student = True\n",
    "print(is_student)"
   ]
  },
  {
   "cell_type": "code",
   "execution_count": 5,
   "id": "4a73a465",
   "metadata": {},
   "outputs": [
    {
     "data": {
      "text/plain": [
       "False"
      ]
     },
     "execution_count": 5,
     "metadata": {},
     "output_type": "execute_result"
    }
   ],
   "source": [
    "bool(0)"
   ]
  },
  {
   "cell_type": "code",
   "execution_count": 6,
   "id": "ed5f2787",
   "metadata": {},
   "outputs": [
    {
     "data": {
      "text/plain": [
       "bool"
      ]
     },
     "execution_count": 6,
     "metadata": {},
     "output_type": "execute_result"
    }
   ],
   "source": [
    "a=10\n",
    "b=10\n",
    "\n",
    "type(a==b)"
   ]
  },
  {
   "cell_type": "code",
   "execution_count": 7,
   "id": "b791c9f7",
   "metadata": {},
   "outputs": [
    {
     "ename": "TypeError",
     "evalue": "can only concatenate str (not \"int\") to str",
     "output_type": "error",
     "traceback": [
      "\u001b[31m---------------------------------------------------------------------------\u001b[39m",
      "\u001b[31mTypeError\u001b[39m                                 Traceback (most recent call last)",
      "\u001b[36mCell\u001b[39m\u001b[36m \u001b[39m\u001b[32mIn[7]\u001b[39m\u001b[32m, line 2\u001b[39m\n\u001b[32m      1\u001b[39m \u001b[38;5;66;03m# common errors\u001b[39;00m\n\u001b[32m----> \u001b[39m\u001b[32m2\u001b[39m result=\u001b[33;43m\"\u001b[39;49m\u001b[33;43mHello\u001b[39;49m\u001b[33;43m\"\u001b[39;49m\u001b[43m \u001b[49m\u001b[43m+\u001b[49m\u001b[43m \u001b[49m\u001b[32;43m5\u001b[39;49m\n",
      "\u001b[31mTypeError\u001b[39m: can only concatenate str (not \"int\") to str"
     ]
    }
   ],
   "source": [
    "# common errors\n",
    "result=\"Hello\" + 5"
   ]
  },
  {
   "cell_type": "code",
   "execution_count": 8,
   "id": "ba276710",
   "metadata": {},
   "outputs": [],
   "source": [
    "result=\"Hello\" + str(5)"
   ]
  },
  {
   "cell_type": "code",
   "execution_count": null,
   "id": "1a76b7e8",
   "metadata": {},
   "outputs": [],
   "source": []
  }
 ],
 "metadata": {
  "kernelspec": {
   "display_name": "Python 3",
   "language": "python",
   "name": "python3"
  },
  "language_info": {
   "codemirror_mode": {
    "name": "ipython",
    "version": 3
   },
   "file_extension": ".py",
   "mimetype": "text/x-python",
   "name": "python",
   "nbconvert_exporter": "python",
   "pygments_lexer": "ipython3",
   "version": "3.12.0"
  }
 },
 "nbformat": 4,
 "nbformat_minor": 5
}
